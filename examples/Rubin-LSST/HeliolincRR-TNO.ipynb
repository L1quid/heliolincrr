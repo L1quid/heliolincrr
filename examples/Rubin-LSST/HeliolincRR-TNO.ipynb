{
 "cells": [
  {
   "cell_type": "code",
   "execution_count": 1,
   "id": "65ecf05f-dd49-4d80-a4c4-77f3286cec62",
   "metadata": {
    "execution": {
     "iopub.execute_input": "2023-11-02T13:31:53.384217Z",
     "iopub.status.busy": "2023-11-02T13:31:53.384059Z",
     "iopub.status.idle": "2023-11-02T13:31:54.770268Z",
     "shell.execute_reply": "2023-11-02T13:31:54.769703Z",
     "shell.execute_reply.started": "2023-11-02T13:31:53.384201Z"
    },
    "tags": []
   },
   "outputs": [],
   "source": [
    "import numpy as np\n",
    "import pandas as pd\n",
    "import itertools\n",
    "from heliolincrr import HeliolincRR\n",
    "from lsst.rsp import get_tap_service\n",
    "from tqdm import tqdm"
   ]
  },
  {
   "cell_type": "markdown",
   "id": "19634959-4276-410f-b6bc-e186300d4e83",
   "metadata": {},
   "source": [
    "## Helper functions for DP0.3"
   ]
  },
  {
   "cell_type": "code",
   "execution_count": 2,
   "id": "37ab523b-5c8f-407b-b69f-c13f1bef7f2a",
   "metadata": {
    "execution": {
     "iopub.execute_input": "2023-11-02T13:31:54.771419Z",
     "iopub.status.busy": "2023-11-02T13:31:54.771033Z",
     "iopub.status.idle": "2023-11-02T13:31:54.774912Z",
     "shell.execute_reply": "2023-11-02T13:31:54.774329Z",
     "shell.execute_reply.started": "2023-11-02T13:31:54.771399Z"
    },
    "tags": []
   },
   "outputs": [],
   "source": [
    "def query(adql, con=None):\n",
    "    \"\"\"\n",
    "    DB query\n",
    "    \"\"\"\n",
    "    if con is None:\n",
    "        con = get_tap_service(\"ssotap\")\n",
    "    return con.search(adql).to_table().to_pandas()"
   ]
  },
  {
   "cell_type": "code",
   "execution_count": 3,
   "id": "91d6d0a7-e900-4fd5-af8c-e4b9cbc7fdb5",
   "metadata": {
    "execution": {
     "iopub.execute_input": "2023-11-02T13:31:54.775801Z",
     "iopub.status.busy": "2023-11-02T13:31:54.775589Z",
     "iopub.status.idle": "2023-11-02T13:31:54.788494Z",
     "shell.execute_reply": "2023-11-02T13:31:54.787996Z",
     "shell.execute_reply.started": "2023-11-02T13:31:54.775777Z"
    },
    "tags": []
   },
   "outputs": [],
   "source": [
    "def create_observations(time_ranges,dist_ranges):\n",
    "    \"\"\"\n",
    "    Query DP0.3 data for observations in a time range and distance range.\n",
    "    \"\"\"\n",
    "\n",
    "    q = \"\"\"\n",
    "        SELECT ds.ra,ds.dec,ds.midPointMjdTai,ds.diaSourceId,ds.ssObjectId,\n",
    "        sss.heliocentricX-sss.topocentricX as observerX,\n",
    "        sss.heliocentricY-sss.topocentricY as observerY,\n",
    "        sss.heliocentricZ-sss.topocentricZ as observerZ\n",
    "        FROM dp03_catalogs_1yr.DiaSource AS ds\n",
    "        INNER JOIN dp03_catalogs_1yr.SSSource AS sss\n",
    "        ON ds.diaSourceId = sss.diaSourceId\n",
    "        WHERE ds.midPointMjdTai >= {:f} AND ds.midPointMjdTai <= {:f} \n",
    "        AND sss.heliocentricDist > {:f} AND sss.heliocentricDist <= {:f}\n",
    "        ORDER BY midPointMjdTai,ds.diaSourceId ASC\n",
    "    \"\"\"\n",
    "    \n",
    "    obs = query(q.format(time_ranges[0],time_ranges[1],dist_ranges[0],dist_ranges[1]))\n",
    "    obs[['observerX','observerY','observerZ']] = obs[['observerX','observerY','observerZ']].astype(float)\n",
    "                \n",
    "    return obs"
   ]
  },
  {
   "cell_type": "code",
   "execution_count": 4,
   "id": "e2b3d41c-b68a-44c3-80b4-16cc84edc299",
   "metadata": {
    "execution": {
     "iopub.execute_input": "2023-11-02T13:31:54.789487Z",
     "iopub.status.busy": "2023-11-02T13:31:54.789156Z",
     "iopub.status.idle": "2023-11-02T13:31:54.806335Z",
     "shell.execute_reply": "2023-11-02T13:31:54.805533Z",
     "shell.execute_reply.started": "2023-11-02T13:31:54.789468Z"
    },
    "tags": []
   },
   "outputs": [],
   "source": [
    "def linkable_objects(obs,dts,fields,min_len=6,min_nights=3):\n",
    "    \"\"\"\n",
    "    Find the linkable objects in a set of observations given minimum link constraints.\n",
    "    \"\"\"\n",
    "    obj_id_field = fields[0]\n",
    "    time_field = fields[1]\n",
    "    min_tracklets = min_len/min_nights\n",
    "    \n",
    "    #filter by detection count constraint first\n",
    "    uobjs, uobj_counts = np.unique(obs[obj_id_field], return_counts=True) #counts for each object\n",
    "    uobjs = uobjs[np.where(uobj_counts >= min_len)[0]] #objects with enough detections\n",
    "    fobs = obs[obs[obj_id_field].isin(uobjs)][[obj_id_field,time_field]].sort_values(time_field) #filter observations without enough detections\n",
    "    fobs_objid = np.array(fobs[obj_id_field])\n",
    "    fobs_mjd = np.array(fobs[time_field])\n",
    "    \n",
    "    lobjs = [] #list of linkable objects\n",
    "\n",
    "    for o in tqdm(uobjs, smoothing=0):\n",
    "        #get all observation times for an object\n",
    "        obool = fobs_objid == o\n",
    "        mjds = fobs_mjd[obool]\n",
    "    \n",
    "        mtt = 0 #init: minimum tracklet time\n",
    "        mtts = [] #init: minimum tracklet times for each valid tracklet\n",
    "        ttimes = [] #init: times of final tracklets (list of lists)\n",
    "        \n",
    "        #find all future observations within [dt_min, dt_max] for each observation time\n",
    "        #choose smallest duration tracklet as one instance for counting purposes\n",
    "        for mjd in mjds[0:-1]:\n",
    "            if mjd <= mtt:\n",
    "                continue\n",
    "            \n",
    "            d = mjds - mjd\n",
    "            mtt_candidates = mjds[(d >= dts[0]) & (d <= dts[1])]\n",
    "            if len(mtt_candidates) > 0:\n",
    "                mtt_candidate = np.min(mtt_candidates)\n",
    "                mtt = mtt_candidate\n",
    "                mtts.append(mtt)\n",
    "                ttimes.append([mjd,mtt])\n",
    "            else:\n",
    "                continue\n",
    "    \n",
    "        #filter by tracklet count constraint (and skip the calcs below if too few)\n",
    "        num_tls = len(mtts)\n",
    "        if num_tls < min_tracklets:\n",
    "            continue\n",
    "\n",
    "        mtts = np.array(mtts)\n",
    "        num_dets = len(np.unique(ttimes))\n",
    "        num_nights = np.sum(np.diff(mtts) > 0.5) + 1\n",
    "    \n",
    "        #filter by nights of observation constraint\n",
    "        if num_nights >= min_nights and num_dets >= min_len:\n",
    "            lobjs.append([o,num_tls,num_dets,num_nights])\n",
    "        \n",
    "    linkables = pd.DataFrame(lobjs,columns=(obj_id_field,'tracklets','sources','nights'))\n",
    "    \n",
    "    return linkables"
   ]
  },
  {
   "cell_type": "code",
   "execution_count": 5,
   "id": "9600a735-6a2e-4980-b067-5d3e7d1d67eb",
   "metadata": {
    "execution": {
     "iopub.execute_input": "2023-11-02T13:31:54.807894Z",
     "iopub.status.busy": "2023-11-02T13:31:54.807540Z",
     "iopub.status.idle": "2023-11-02T13:31:54.823038Z",
     "shell.execute_reply": "2023-11-02T13:31:54.822415Z",
     "shell.execute_reply.started": "2023-11-02T13:31:54.807866Z"
    },
    "tags": []
   },
   "outputs": [],
   "source": [
    "def match_links(links,obs,body_id_field):\n",
    "    \"\"\"\n",
    "    For a set of candidate links, find what observations and objects they match.\n",
    "    \"\"\"\n",
    "\n",
    "    #pure/mixed counts\n",
    "    pure_objs = []\n",
    "    pure_links = []\n",
    "    mixed_objs = []\n",
    "    mixed_links = []\n",
    "\n",
    "    for i,l in enumerate(tqdm(links)):\n",
    "        objs = obs.iloc[l][body_id_field].unique()\n",
    "        if len(objs)==1:\n",
    "            pure_objs.append(objs[0])\n",
    "            pure_links.append(i)\n",
    "        else:\n",
    "            mixed_objs.append(objs[0])\n",
    "            mixed_links.append(i)\n",
    "            \n",
    "    return pure_objs, pure_links, mixed_objs, mixed_links"
   ]
  },
  {
   "cell_type": "markdown",
   "id": "0fb95ba6-53aa-4546-992d-8a3446a5afe2",
   "metadata": {},
   "source": [
    "## HeliolincRR: Ingest observations"
   ]
  },
  {
   "cell_type": "code",
   "execution_count": 6,
   "id": "5c627c25-0552-4006-848e-6c5e081128c8",
   "metadata": {
    "execution": {
     "iopub.execute_input": "2023-11-02T13:31:54.824210Z",
     "iopub.status.busy": "2023-11-02T13:31:54.823791Z",
     "iopub.status.idle": "2023-11-02T13:32:03.626424Z",
     "shell.execute_reply": "2023-11-02T13:32:03.625821Z",
     "shell.execute_reply.started": "2023-11-02T13:31:54.824166Z"
    },
    "tags": []
   },
   "outputs": [],
   "source": [
    "#get observations between two MJDs and between two heliocentric distances\n",
    "\n",
    "obs_time_interval = [60218.00491,60218.00491+14] #mjd search interval\n",
    "#obs_range_interval = [0,1e10] #search all sources (NOTE: ~2hr notebook runtime!)\n",
    "obs_range_interval = [30,1e10] #search subset of sources (for quick demonstration)\n",
    "tgt_range_interval = [30,1e10]\n",
    "\n",
    "#sources we're searching\n",
    "obs = create_observations(obs_time_interval,obs_range_interval)\n",
    "\n",
    "#target sources we want to find\n",
    "tgt_obs = create_observations(obs_time_interval,tgt_range_interval)"
   ]
  },
  {
   "cell_type": "code",
   "execution_count": 7,
   "id": "d7ae64db-1690-4f04-a31a-cde3716918a1",
   "metadata": {
    "execution": {
     "iopub.execute_input": "2023-11-02T13:32:03.627414Z",
     "iopub.status.busy": "2023-11-02T13:32:03.627215Z",
     "iopub.status.idle": "2023-11-02T13:32:03.633576Z",
     "shell.execute_reply": "2023-11-02T13:32:03.633036Z",
     "shell.execute_reply.started": "2023-11-02T13:32:03.627399Z"
    },
    "tags": []
   },
   "outputs": [],
   "source": [
    "#assemble radecs, jdates and observer locations for HeliolincRR instantiation\n",
    "radecs = np.array(obs[['ra','dec']]) #deg\n",
    "jdates = np.array(obs['midPointMjdTai'] + 2400000.5) #julian dates\n",
    "obs_locs = np.array(obs[['observerX','observerY','observerZ']]) #AU"
   ]
  },
  {
   "cell_type": "code",
   "execution_count": 8,
   "id": "6a0c698f-22c4-4efa-9b1b-94d8f9e412de",
   "metadata": {
    "execution": {
     "iopub.execute_input": "2023-11-02T13:32:03.634653Z",
     "iopub.status.busy": "2023-11-02T13:32:03.634289Z",
     "iopub.status.idle": "2023-11-02T13:32:03.720666Z",
     "shell.execute_reply": "2023-11-02T13:32:03.720057Z",
     "shell.execute_reply.started": "2023-11-02T13:32:03.634634Z"
    },
    "tags": []
   },
   "outputs": [],
   "source": [
    "#instantiate HelioLinC with observation data\n",
    "hl = HeliolincRR(radecs,jdates,obs_locs)"
   ]
  },
  {
   "cell_type": "markdown",
   "id": "6831b865-7b0e-453f-ac50-3c46443e82ba",
   "metadata": {},
   "source": [
    "## HeliolincRR: Linking"
   ]
  },
  {
   "cell_type": "code",
   "execution_count": 9,
   "id": "5d819221-c54b-4730-bb16-160fc6dd5130",
   "metadata": {
    "execution": {
     "iopub.execute_input": "2023-11-02T13:32:03.723415Z",
     "iopub.status.busy": "2023-11-02T13:32:03.723046Z",
     "iopub.status.idle": "2023-11-02T13:32:03.725872Z",
     "shell.execute_reply": "2023-11-02T13:32:03.725362Z",
     "shell.execute_reply.started": "2023-11-02T13:32:03.723395Z"
    },
    "tags": []
   },
   "outputs": [],
   "source": [
    "#CPU cores to use for calculations below\n",
    "cores = 4"
   ]
  },
  {
   "cell_type": "code",
   "execution_count": 10,
   "id": "28bee99e-25f7-487c-b0f3-0792f6a0a558",
   "metadata": {
    "execution": {
     "iopub.execute_input": "2023-11-02T13:32:03.726807Z",
     "iopub.status.busy": "2023-11-02T13:32:03.726494Z",
     "iopub.status.idle": "2023-11-02T13:32:05.590293Z",
     "shell.execute_reply": "2023-11-02T13:32:05.589664Z",
     "shell.execute_reply.started": "2023-11-02T13:32:03.726790Z"
    },
    "tags": []
   },
   "outputs": [
    {
     "name": "stderr",
     "output_type": "stream",
     "text": [
      "generating tracklets: 100%|██████████| 27677/27677 [00:01<00:00, 15021.17it/s]\n"
     ]
    }
   ],
   "source": [
    "#create tracklets\n",
    "\n",
    "dts = [5.0/1440,240.0/1440] #tracklet duration boundaries in days\n",
    "dpds = [0.0,0.05] #degrees per day boundaries on observer sky\n",
    "\n",
    "#HeliolincRR: create tracklets\n",
    "hl.create_tracklets(dts,dpds)"
   ]
  },
  {
   "cell_type": "code",
   "execution_count": 11,
   "id": "49253af8-74c2-4b6e-b0ef-4c73e1b2fa9c",
   "metadata": {
    "execution": {
     "iopub.execute_input": "2023-11-02T13:32:05.591468Z",
     "iopub.status.busy": "2023-11-02T13:32:05.591044Z",
     "iopub.status.idle": "2023-11-02T13:32:06.391951Z",
     "shell.execute_reply": "2023-11-02T13:32:06.391226Z",
     "shell.execute_reply.started": "2023-11-02T13:32:05.591448Z"
    },
    "tags": []
   },
   "outputs": [
    {
     "name": "stderr",
     "output_type": "stream",
     "text": [
      "propagating: 100%|██████████| 10/10 [00:00<00:00, 15.20it/s]\n"
     ]
    }
   ],
   "source": [
    "#specify range/range-rate/range-rate-rate hypotheses, reference epochs and then propagate\n",
    "\n",
    "#range guesses\n",
    "rs = np.arange(10,101,10) #r (AU)\n",
    "rds = [0] #rdot (AU/d)\n",
    "rdds = [0] #rdotdot (AU/d^2)\n",
    "\n",
    "#generate all range hypothesis combinations\n",
    "hypos = [l for l in itertools.product(*[rs,rds,rdds])] \n",
    "\n",
    "#define epochs as +/- 1 day from mean unique observation time\n",
    "epochs = [-1,1] + np.mean(hl.utimes)\n",
    "\n",
    "#HeliolincRR: propagate tracklets to reference epochs\n",
    "hl.propagate(hypos,epochs,cores)"
   ]
  },
  {
   "cell_type": "code",
   "execution_count": 12,
   "id": "f59c1c9d-c6ed-4f13-a49b-80a895e856e4",
   "metadata": {
    "execution": {
     "iopub.execute_input": "2023-11-02T13:32:06.395829Z",
     "iopub.status.busy": "2023-11-02T13:32:06.395603Z",
     "iopub.status.idle": "2023-11-02T13:32:12.732573Z",
     "shell.execute_reply": "2023-11-02T13:32:12.731872Z",
     "shell.execute_reply.started": "2023-11-02T13:32:06.395810Z"
    },
    "tags": []
   },
   "outputs": [
    {
     "name": "stderr",
     "output_type": "stream",
     "text": [
      "clustering: 100%|██████████| 10/10 [00:06<00:00,  1.61it/s]\n"
     ]
    }
   ],
   "source": [
    "#cluster propagated tracklets\n",
    "\n",
    "tol = 0.0006 #position tolerance AU\n",
    "min_len = 6 #minimum link length\n",
    "min_nights = 3 #minimum number of nights\n",
    "\n",
    "#HeliolincRR: cluster propagated tracklets\n",
    "hypo_links = hl.cluster(tol,min_len,min_nights,cores)"
   ]
  },
  {
   "cell_type": "markdown",
   "id": "36016439-7807-420e-a503-5a93367a77b6",
   "metadata": {},
   "source": [
    "## HeliolincRR: Aggregate Results"
   ]
  },
  {
   "cell_type": "code",
   "execution_count": 13,
   "id": "46d5db11-f624-4dee-aa82-2d8166862970",
   "metadata": {
    "execution": {
     "iopub.execute_input": "2023-11-02T13:32:13.099780Z",
     "iopub.status.busy": "2023-11-02T13:32:13.099571Z",
     "iopub.status.idle": "2023-11-02T13:32:14.017625Z",
     "shell.execute_reply": "2023-11-02T13:32:14.017048Z",
     "shell.execute_reply.started": "2023-11-02T13:32:13.099764Z"
    },
    "tags": []
   },
   "outputs": [
    {
     "name": "stderr",
     "output_type": "stream",
     "text": [
      "100%|██████████| 3037/3037 [00:00<00:00, 4491.41it/s]\n",
      "100%|██████████| 2374/2374 [00:00<00:00, 11442.57it/s]\n"
     ]
    }
   ],
   "source": [
    "#match the links HeliolincRR found to what we expect to find\n",
    "ulinks = hl.ulinks(hypo_links)\n",
    "pure_objs, pure_links, mixed_objs, mixed_links = match_links(ulinks,obs,'ssObjectId')\n",
    "tgt_linkable_objects = linkable_objects(tgt_obs,dts,['ssObjectId','midPointMjdTai'])\n",
    "pure_matches = set(pure_objs) & set(tgt_linkable_objects['ssObjectId'])"
   ]
  },
  {
   "cell_type": "code",
   "execution_count": 14,
   "id": "c4fe323c-3d67-4f4f-ade4-d39a28e88e4d",
   "metadata": {
    "execution": {
     "iopub.execute_input": "2023-11-02T13:32:14.774971Z",
     "iopub.status.busy": "2023-11-02T13:32:14.774776Z",
     "iopub.status.idle": "2023-11-02T13:32:14.778686Z",
     "shell.execute_reply": "2023-11-02T13:32:14.778176Z",
     "shell.execute_reply.started": "2023-11-02T13:32:14.774956Z"
    },
    "tags": []
   },
   "outputs": [
    {
     "name": "stdout",
     "output_type": "stream",
     "text": [
      "Linkable targeted objects: 1914 \n",
      "Unique links found across all hypothesis: 3037 \n",
      "Unique targeted objects in pure links: 1910 (99.79%)\n",
      "Mixed links: 42 (1.38% of unique) \n"
     ]
    }
   ],
   "source": [
    "s = \"\"\"Linkable targeted objects: {:d} \n",
    "Unique links found across all hypothesis: {:d} \n",
    "Unique targeted objects in pure links: {:d} ({:.2f}%)\n",
    "Mixed links: {:d} ({:.2f}% of unique) \"\"\"\n",
    "print(s.format(len(tgt_linkable_objects),len(ulinks),len(pure_matches),100*len(pure_matches)/len(tgt_linkable_objects),len(mixed_objs),100*len(mixed_objs)/len(ulinks)))"
   ]
  },
  {
   "cell_type": "markdown",
   "id": "beb498b2-701b-42aa-9cb4-441c73df4ec1",
   "metadata": {},
   "source": [
    "## HeliolincRR: Inspect an individual link"
   ]
  },
  {
   "cell_type": "code",
   "execution_count": 15,
   "id": "37b36158-8d3a-48e2-98c5-073a615884fc",
   "metadata": {
    "execution": {
     "iopub.execute_input": "2023-11-02T13:32:14.779467Z",
     "iopub.status.busy": "2023-11-02T13:32:14.779299Z",
     "iopub.status.idle": "2023-11-02T13:32:14.803442Z",
     "shell.execute_reply": "2023-11-02T13:32:14.802943Z",
     "shell.execute_reply.started": "2023-11-02T13:32:14.779453Z"
    },
    "tags": []
   },
   "outputs": [
    {
     "data": {
      "text/html": [
       "<div>\n",
       "<style scoped>\n",
       "    .dataframe tbody tr th:only-of-type {\n",
       "        vertical-align: middle;\n",
       "    }\n",
       "\n",
       "    .dataframe tbody tr th {\n",
       "        vertical-align: top;\n",
       "    }\n",
       "\n",
       "    .dataframe thead th {\n",
       "        text-align: right;\n",
       "    }\n",
       "</style>\n",
       "<table border=\"1\" class=\"dataframe\">\n",
       "  <thead>\n",
       "    <tr style=\"text-align: right;\">\n",
       "      <th></th>\n",
       "      <th>ra</th>\n",
       "      <th>dec</th>\n",
       "      <th>midPointMjdTai</th>\n",
       "      <th>diaSourceId</th>\n",
       "      <th>ssObjectId</th>\n",
       "      <th>observerX</th>\n",
       "      <th>observerY</th>\n",
       "      <th>observerZ</th>\n",
       "    </tr>\n",
       "  </thead>\n",
       "  <tbody>\n",
       "    <tr>\n",
       "      <th>5770</th>\n",
       "      <td>336.203964</td>\n",
       "      <td>-18.673650</td>\n",
       "      <td>60224.02458</td>\n",
       "      <td>5404968455436134042</td>\n",
       "      <td>-3799045400204369929</td>\n",
       "      <td>0.973431</td>\n",
       "      <td>0.208933</td>\n",
       "      <td>0.090550</td>\n",
       "    </tr>\n",
       "    <tr>\n",
       "      <th>5774</th>\n",
       "      <td>336.203970</td>\n",
       "      <td>-18.673658</td>\n",
       "      <td>60224.02503</td>\n",
       "      <td>2982152113804713967</td>\n",
       "      <td>-3799045400204369929</td>\n",
       "      <td>0.973429</td>\n",
       "      <td>0.208940</td>\n",
       "      <td>0.090553</td>\n",
       "    </tr>\n",
       "    <tr>\n",
       "      <th>6194</th>\n",
       "      <td>336.203482</td>\n",
       "      <td>-18.673724</td>\n",
       "      <td>60224.04943</td>\n",
       "      <td>-6383169764155035792</td>\n",
       "      <td>-3799045400204369929</td>\n",
       "      <td>0.973331</td>\n",
       "      <td>0.209318</td>\n",
       "      <td>0.090715</td>\n",
       "    </tr>\n",
       "    <tr>\n",
       "      <th>7970</th>\n",
       "      <td>336.183064</td>\n",
       "      <td>-18.677317</td>\n",
       "      <td>60225.20953</td>\n",
       "      <td>1047390441990126389</td>\n",
       "      <td>-3799045400204369929</td>\n",
       "      <td>0.968268</td>\n",
       "      <td>0.227073</td>\n",
       "      <td>0.098396</td>\n",
       "    </tr>\n",
       "    <tr>\n",
       "      <th>8075</th>\n",
       "      <td>336.182686</td>\n",
       "      <td>-18.677380</td>\n",
       "      <td>60225.22977</td>\n",
       "      <td>509706604734492813</td>\n",
       "      <td>-3799045400204369929</td>\n",
       "      <td>0.968175</td>\n",
       "      <td>0.227386</td>\n",
       "      <td>0.098530</td>\n",
       "    </tr>\n",
       "    <tr>\n",
       "      <th>16416</th>\n",
       "      <td>336.133561</td>\n",
       "      <td>-18.685311</td>\n",
       "      <td>60228.14658</td>\n",
       "      <td>2323270922036566148</td>\n",
       "      <td>-3799045400204369929</td>\n",
       "      <td>0.953713</td>\n",
       "      <td>0.271507</td>\n",
       "      <td>0.117664</td>\n",
       "    </tr>\n",
       "    <tr>\n",
       "      <th>16641</th>\n",
       "      <td>336.133156</td>\n",
       "      <td>-18.685355</td>\n",
       "      <td>60228.17134</td>\n",
       "      <td>1924125803135136329</td>\n",
       "      <td>-3799045400204369929</td>\n",
       "      <td>0.953579</td>\n",
       "      <td>0.271885</td>\n",
       "      <td>0.117825</td>\n",
       "    </tr>\n",
       "  </tbody>\n",
       "</table>\n",
       "</div>"
      ],
      "text/plain": [
       "               ra        dec  midPointMjdTai          diaSourceId  \\\n",
       "5770   336.203964 -18.673650     60224.02458  5404968455436134042   \n",
       "5774   336.203970 -18.673658     60224.02503  2982152113804713967   \n",
       "6194   336.203482 -18.673724     60224.04943 -6383169764155035792   \n",
       "7970   336.183064 -18.677317     60225.20953  1047390441990126389   \n",
       "8075   336.182686 -18.677380     60225.22977   509706604734492813   \n",
       "16416  336.133561 -18.685311     60228.14658  2323270922036566148   \n",
       "16641  336.133156 -18.685355     60228.17134  1924125803135136329   \n",
       "\n",
       "                ssObjectId  observerX  observerY  observerZ  \n",
       "5770  -3799045400204369929   0.973431   0.208933   0.090550  \n",
       "5774  -3799045400204369929   0.973429   0.208940   0.090553  \n",
       "6194  -3799045400204369929   0.973331   0.209318   0.090715  \n",
       "7970  -3799045400204369929   0.968268   0.227073   0.098396  \n",
       "8075  -3799045400204369929   0.968175   0.227386   0.098530  \n",
       "16416 -3799045400204369929   0.953713   0.271507   0.117664  \n",
       "16641 -3799045400204369929   0.953579   0.271885   0.117825  "
      ]
     },
     "execution_count": 15,
     "metadata": {},
     "output_type": "execute_result"
    }
   ],
   "source": [
    "#each 'ulinks' index contains the indicies of a link HeliolincRR found in the\n",
    "#observations ('obs') data. ssObjectId should be the same for a pure link.\n",
    "\n",
    "obs.iloc[ulinks[0]] #the first candidate link HeliolincRR found"
   ]
  }
 ],
 "metadata": {
  "kernelspec": {
   "display_name": "LSST",
   "language": "python",
   "name": "lsst"
  },
  "language_info": {
   "codemirror_mode": {
    "name": "ipython",
    "version": 3
   },
   "file_extension": ".py",
   "mimetype": "text/x-python",
   "name": "python",
   "nbconvert_exporter": "python",
   "pygments_lexer": "ipython3",
   "version": "3.11.4"
  }
 },
 "nbformat": 4,
 "nbformat_minor": 5
}
